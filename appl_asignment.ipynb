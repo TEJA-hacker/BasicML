{
  "nbformat": 4,
  "nbformat_minor": 0,
  "metadata": {
    "colab": {
      "name": "appl asignment",
      "provenance": [],
      "collapsed_sections": [],
      "authorship_tag": "ABX9TyPSAevezIvsa1azYvv/rUIT",
      "include_colab_link": true
    },
    "kernelspec": {
      "name": "python3",
      "display_name": "Python 3"
    },
    "language_info": {
      "name": "python"
    }
  },
  "cells": [
    {
      "cell_type": "markdown",
      "metadata": {
        "id": "view-in-github",
        "colab_type": "text"
      },
      "source": [
        "<a href=\"https://colab.research.google.com/github/TEJA-hacker/BasicML/blob/main/appl_asignment.ipynb\" target=\"_parent\"><img src=\"https://colab.research.google.com/assets/colab-badge.svg\" alt=\"Open In Colab\"/></a>"
      ]
    },
    {
      "cell_type": "code",
      "metadata": {
        "colab": {
          "base_uri": "https://localhost:8080/"
        },
        "id": "ksYVHfUJWx5J",
        "outputId": "c8b56eb3-0a66-4acc-839d-d1e88a1b6ae4"
      },
      "source": [
        "#program to create simple calculator\n",
        "\n",
        "a=float(input(\"enter first number : \"))\n",
        "b=float(input(\"enter second number : \")) \n",
        "s=input(\"enter(+,-,*,/):   \")\n",
        "if s== \"+\":\n",
        "    result=a+b\n",
        "    print(a,\"+\",b,\"=\",result)\n",
        "elif s== \"-\":\n",
        "    result=a-b\n",
        "    print(a,\"-\",b,\"=\",result)\n",
        "elif s== \"*\":\n",
        "    result=a*b\n",
        "    print(a,\"*\",b,\"=\",result)\n",
        "elif s== \"/\":\n",
        "    result=a/b\n",
        "    print(a,\"/\",b,\"=\",result)\n",
        "else:\n",
        "    print(\"invalid input\")\n"
      ],
      "execution_count": null,
      "outputs": [
        {
          "output_type": "stream",
          "text": [
            "enter first number : 4\n",
            "enter second number : 3\n",
            "enter(+,-,*,/):   /\n",
            "4.0 / 3.0 = 1.3333333333333333\n"
          ],
          "name": "stdout"
        }
      ]
    },
    {
      "cell_type": "markdown",
      "metadata": {
        "id": "6luBoa3saCLH"
      },
      "source": [
        "in this code first we entered two numbers(a,b) and then we entered arthematic operator( + , - , * , / )\n",
        "\n",
        "if we entered \"+\" then the two numbers are added or\n",
        "\n",
        "if we entered \"-\" then the second number is subtracted from first number\n",
        "\n",
        "if we entered \"*\" then the two numbers are multiplied or\n",
        "\n",
        "if we entered \"/\" then the first number is divided by second number\n",
        "\n"
      ]
    },
    {
      "cell_type": "code",
      "metadata": {
        "id": "0f34A6NXcJ-T",
        "colab": {
          "base_uri": "https://localhost:8080/"
        },
        "outputId": "51cbdad9-88a0-4fba-d9a8-dd40eda20b10"
      },
      "source": [
        "#program to find the sum of the digits\n",
        "n=int(input(\"enter an integer: \"))\n",
        "sum=0\n",
        "while n>0:\n",
        "  r=n%10\n",
        "  sum+=r\n",
        "  n//=10\n",
        "print(\"sum of digits of a integer is:\",sum)\n"
      ],
      "execution_count": null,
      "outputs": [
        {
          "output_type": "stream",
          "text": [
            "enter an integer: 123456789\n",
            "sum of digits of a integer is: 45\n"
          ],
          "name": "stdout"
        }
      ]
    },
    {
      "cell_type": "markdown",
      "metadata": {
        "id": "IQMIKGJPvxn3"
      },
      "source": [
        "in the above program we have to store a integer in variable \"N\",and sum=0.then we have to take the remainder of the interger and store it as 'r'.\n",
        "then we add the remainder to the sum and divide the integer with 10.it is repeated till the integer becomes zero.\n",
        "then we print the sum which is the required out put"
      ]
    },
    {
      "cell_type": "code",
      "metadata": {
        "colab": {
          "base_uri": "https://localhost:8080/"
        },
        "id": "PiBrUE79w--m",
        "outputId": "54071dd6-d262-4ceb-e1d2-29d64427e5e0"
      },
      "source": [
        "#program to find the number is even or odd\n",
        "n=int(input(\"enter a number : \"))\n",
        "if n%2==0:\n",
        "  print(\"the number is even\")\n",
        "else:\n",
        "    print(\"the number is odd\")\n"
      ],
      "execution_count": null,
      "outputs": [
        {
          "output_type": "stream",
          "text": [
            "enter a number : 23\n",
            "the number is odd\n"
          ],
          "name": "stdout"
        }
      ]
    },
    {
      "cell_type": "markdown",
      "metadata": {
        "id": "ecSCC8MQxgJn"
      },
      "source": [
        "in the above program the entered number is stored in \"n\". n is divided with 2 if the remainder is zero thenits is even number.else it is odd number."
      ]
    }
  ]
}